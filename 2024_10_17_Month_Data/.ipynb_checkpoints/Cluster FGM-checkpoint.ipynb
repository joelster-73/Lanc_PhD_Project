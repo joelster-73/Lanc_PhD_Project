{
 "cells": [
  {
   "cell_type": "markdown",
   "id": "ce3c8711-58a1-4e9c-8edc-59cf0c50b03b",
   "metadata": {
    "tags": []
   },
   "source": [
    "# Prelim"
   ]
  },
  {
   "cell_type": "markdown",
   "id": "35309ef1-1069-462f-9fc1-f4023760a104",
   "metadata": {
    "tags": []
   },
   "source": [
    "## Imports"
   ]
  },
  {
   "cell_type": "markdown",
   "id": "fd833bab-4e71-42d3-af5f-cdba04c4cd02",
   "metadata": {},
   "source": [
    "*  \"C1\" = Cluster 1\n",
    "*  \"CP\" = Cluster Prime Parameter\n",
    "*  \"FGM\" = Flux Gate Magnetometer\n",
    "*  \"5VPS\" = 5 vectors/second resolution\n",
    "*  Skeleton table: https://spdf.gsfc.nasa.gov/pub/software/cdawlib/0SKELTABLES/c1_cp_fgm_5vps_00000000_v01.skt"
   ]
  },
  {
   "cell_type": "code",
   "execution_count": 4,
   "id": "02dabfd6-0d70-416d-b2a9-6791cfc55f55",
   "metadata": {},
   "outputs": [
    {
     "data": {
      "text/plain": [
       "'\\nimport sys\\n!{sys.executable} -m pip install cdflib\\n'"
      ]
     },
     "execution_count": 4,
     "metadata": {},
     "output_type": "execute_result"
    }
   ],
   "source": [
    "\"\"\"\n",
    "import sys\n",
    "!{sys.executable} -m pip install cdflib\n",
    "\"\"\""
   ]
  },
  {
   "cell_type": "code",
   "execution_count": 5,
   "id": "bc7d9dd1-a34b-494d-aec8-ee3edc003fac",
   "metadata": {},
   "outputs": [],
   "source": [
    "import numpy as np\n",
    "import matplotlib.pyplot as plt\n",
    "import matplotlib.dates as mdates\n",
    "\n",
    "from time import strftime, localtime\n",
    "from datetime import datetime\n",
    "import pandas as pd\n",
    "\n",
    "import os\n",
    "import cdflib"
   ]
  },
  {
   "cell_type": "code",
   "execution_count": 6,
   "id": "b849ad0b-4aeb-4f67-81ff-7db946982f0c",
   "metadata": {},
   "outputs": [],
   "source": [
    "# Specify your directory containing the CDF files\n",
    "cdf_directory = '2020_Feb_Cluster/'\n",
    "\n",
    "# Define the date range\n",
    "start_date = datetime(2020, 1, 21)\n",
    "end_date = datetime(2020, 2, 1)\n",
    "\n",
    "start_date_str = start_date.strftime('%Y-%m-%d')\n",
    "end_date_str = end_date.strftime('%Y-%m-%d')\n",
    "\n",
    "R_E = 6370 # Cluster takes 1 earth radius to be 6370 km"
   ]
  },
  {
   "cell_type": "code",
   "execution_count": 7,
   "id": "c149cbac-6cfb-4d68-b4b6-a39889b4b963",
   "metadata": {},
   "outputs": [],
   "source": [
    "def open_cdfs_in_date_range(directory, start_date, end_date):\n",
    "    \"\"\"\n",
    "    Filters cdf files in a given directory based on a specified date range.\n",
    "\n",
    "    Parameters\n",
    "    ----------\n",
    "    directory : str\n",
    "        The path to the directory containing the cdf files.\n",
    "        \n",
    "    start_date : datetime\n",
    "        The starting date of the range for which files should be selected.\n",
    "        \n",
    "    end_date : datetime\n",
    "        The ending date of the range for which files should be selected.\n",
    "\n",
    "    Returns\n",
    "    -------\n",
    "    list of str :\n",
    "        A list of file paths for cdf files whose dates fall within the specified range.\n",
    "    \"\"\"\n",
    "    cdf_files = []\n",
    "    for file in os.listdir(directory):\n",
    "        if file.endswith('.cdf'):\n",
    "            # Assuming filename is data-name__dates_version.cdf\n",
    "            date_str = file.split('__')[1][:8]  # Get the first 8 characters after '__' (YYYYMMDD)\n",
    "            file_date = datetime.strptime(date_str, '%Y%m%d')\n",
    "            \n",
    "            # Check if file_date is within the date range\n",
    "            if start_date <= file_date <= end_date:\n",
    "                cdf_files.append(os.path.join(cdf_directory, file))\n",
    "    \n",
    "    return cdf_files"
   ]
  },
  {
   "cell_type": "code",
   "execution_count": 8,
   "id": "5a93ed31-66eb-4bfb-a275-2dd2e0b23af9",
   "metadata": {},
   "outputs": [],
   "source": [
    "def load_cdf_data(cdf_file, variables):\n",
    "    \"\"\"\n",
    "    Loads specified variables from a CDF file and returns a dictionary with extracted data.\n",
    "\n",
    "    Parameters\n",
    "    ----------\n",
    "    cdf_file : str\n",
    "        The path to the CDF file.\n",
    "        \n",
    "    variables : dict\n",
    "        Dictionary where keys are the variable names to be used in the dataframe, \n",
    "        and values are the variable codes used to extract data from the CDF file.\n",
    "\n",
    "    Returns\n",
    "    -------\n",
    "    dict :\n",
    "        A dictionary where keys are variable names, and values are the corresponding data arrays.\n",
    "    \"\"\"\n",
    "    # Load the CDF file\n",
    "    cdf = cdflib.CDF(cdf_file)\n",
    "    \n",
    "    # Initialise a dictionary to store the data\n",
    "    data_dict = {}\n",
    "    \n",
    "    # Loop through the dictionary of variables and extract data\n",
    "    for var_name, var_code in variables.items():\n",
    "        data = cdf.varget(var_code)  # Extract the data using the CDF variable code\n",
    "        \n",
    "        # Handle vector data\n",
    "        if data.ndim == 2:  # Assuming a 2D array for vector components (e.g. Nx3 for 3D vectors)\n",
    "            # Split into components (e.g. x, y, z)\n",
    "            data_dict[f'{var_name}_x'] = data[:, 0]\n",
    "            data_dict[f'{var_name}_y'] = data[:, 1]\n",
    "            data_dict[f'{var_name}_z'] = data[:, 2]\n",
    "            # Calculate the magnitude of the vector\n",
    "            data_dict[f'{var_name}_mag'] = np.linalg.norm(data, axis=1)\n",
    "        # Sclar data\n",
    "        else:\n",
    "            if var_name == \"t\":\n",
    "                # Concerts epoch time (since 0 CE) into 'datetime'\n",
    "                data = cdflib.cdfepoch.to_datetime(data)\n",
    "            # Store the data in the dictionary with the desired variable name\n",
    "            data_dict[var_name] = data\n",
    "    \n",
    "    return data_dict"
   ]
  },
  {
   "cell_type": "code",
   "execution_count": 9,
   "id": "01f55d7a-aa73-45c7-9dfd-f51eb6bbc109",
   "metadata": {},
   "outputs": [],
   "source": [
    "def process_cdf_files(cdf_files, variables):\n",
    "    \"\"\"\n",
    "    Processes a list of CDF files and extracts the specified variables, returning a pandas DataFrame.\n",
    "\n",
    "    Parameters\n",
    "    ----------\n",
    "    cdf_files : list of str\n",
    "        List of paths to the CDF files to be processed.\n",
    "        \n",
    "    variables : dict\n",
    "        Dictionary where keys are the variable names to be used in the dataframe, \n",
    "        and values are the variable codes used to extract data from the CDF file.\n",
    "\n",
    "    Returns\n",
    "    -------\n",
    "    pandas.DataFrame : one column for each variable :\n",
    "        A DataFrame containing the extracted data from the CDF files, with scalar variables as columns,\n",
    "        vector components as separate columns, and the magnitude of vectors.\n",
    "    \"\"\"\n",
    "    # Initialise an empty DataFrame\n",
    "    df = pd.DataFrame()\n",
    "\n",
    "    # Loop through each CDF file and extract data\n",
    "    for cdf_file in cdf_files:\n",
    "        \n",
    "        # Load the data for the specified variables\n",
    "        data_dict = load_cdf_data(cdf_file, variables)\n",
    "\n",
    "        try:\n",
    "            # Convert the data_dict to a DataFrame for this file\n",
    "            file_df = pd.DataFrame(data_dict)\n",
    "            \n",
    "            # Append the file's DataFrame to the main DataFrame\n",
    "            df = pd.concat([df, file_df], ignore_index=True)\n",
    "            \n",
    "        except ValueError as ve:\n",
    "            print(data_dict)\n",
    "            \n",
    "    return df"
   ]
  },
  {
   "cell_type": "code",
   "execution_count": 10,
   "id": "3943982c-e840-400c-ada3-4dc2c2d5edce",
   "metadata": {},
   "outputs": [],
   "source": [
    "def segment_dataframe(df, column='t', delta='200ms'):\n",
    "    \"\"\"\n",
    "    Adds a 'segment' column to the DataFrame based on time gaps exceeding a threshold, (for plotting purposes).\n",
    "    \n",
    "    Parameters\n",
    "    ----------\n",
    "    df : pandas.DataFrame\n",
    "        Input DataFrame containing data to be segmented.\n",
    "    column : str\n",
    "        The name of the column with time values.\n",
    "    delta : str or pd.Timedelta\n",
    "        The time gap threshold for segmenting data.\n",
    "\n",
    "    Returns\n",
    "    -------\n",
    "        None - the procedure modifies the input DataFrame in place.\n",
    "    \"\"\"\n",
    "\n",
    "    # Ensure delta is a Timedelta object\n",
    "    time_threshold = pd.Timedelta(delta)\n",
    "    \n",
    "    # Calculate the time differences between consecutive rows\n",
    "    time_diffs = df[column].diff()\n",
    "\n",
    "    # Create the 'segment' column in a single operation\n",
    "    df.insert(0, 'segment', (time_diffs > time_threshold).cumsum())"
   ]
  },
  {
   "cell_type": "markdown",
   "id": "f9101641-f696-44dd-80ee-bb7570869ea8",
   "metadata": {
    "tags": []
   },
   "source": [
    "## Extract Data"
   ]
  },
  {
   "cell_type": "code",
   "execution_count": 12,
   "id": "8061f25a-3516-49a0-9a92-ae107cc155cf",
   "metadata": {},
   "outputs": [],
   "source": [
    "# List of paths to the files within the desired date range\n",
    "cdf_files = open_cdfs_in_date_range(cdf_directory, start_date, end_date)"
   ]
  },
  {
   "cell_type": "code",
   "execution_count": 13,
   "id": "959ab667-9972-48d2-81b8-294c22b78ee0",
   "metadata": {},
   "outputs": [],
   "source": [
    "variables = {\n",
    "    \"t\" : \"time_tags__C1_CP_FGM_5VPS\",     # extracts the epoch time in milliseconds (scalar).\n",
    "    \"B\" : \"B_vec_xyz_gse__C1_CP_FGM_5VPS\", # extracts the fgm data in nT (vector).\n",
    "    \"r\" : \"sc_pos_xyz_gse__C1_CP_FGM_5VPS\" # extracts the position in km from centre of Earth (vector).\n",
    "}"
   ]
  },
  {
   "cell_type": "code",
   "execution_count": null,
   "id": "962948ea-c9e2-4f3a-9bce-5ad4609441e3",
   "metadata": {},
   "outputs": [
    {
     "name": "stdout",
     "output_type": "stream",
     "text": [
      "{'t': array(['1753-08-29T22:43:42.128654848'], dtype='datetime64[ns]'), 'B': array([-1.e+31, -1.e+31, -1.e+31], dtype=float32), 'r': array([-1.e+31, -1.e+31, -1.e+31], dtype=float32)}\n"
     ]
    }
   ],
   "source": [
    "# Process the CDF files and extract the data into a pandas DataFrame\n",
    "df_fgm = process_cdf_files(cdf_files, variables)"
   ]
  },
  {
   "cell_type": "code",
   "execution_count": null,
   "id": "996648f6-1988-42da-9ac4-34935ad1052b",
   "metadata": {},
   "outputs": [],
   "source": [
    "# Display the first/last few rows of the DataFrame\n",
    "print(df_fgm.head())\n",
    "print(df_fgm.tail())"
   ]
  },
  {
   "cell_type": "markdown",
   "id": "ccd2c4c2-5822-4d1b-938b-c9fa2e082cb5",
   "metadata": {
    "tags": []
   },
   "source": [
    "# Main"
   ]
  },
  {
   "cell_type": "markdown",
   "id": "21280a6e-6c90-45b5-8d17-fa019dcf6ff0",
   "metadata": {
    "tags": []
   },
   "source": [
    "## Plotting"
   ]
  },
  {
   "cell_type": "code",
   "execution_count": null,
   "id": "ea21d7f1-3ee1-4add-91e1-fbc49d1db5fc",
   "metadata": {},
   "outputs": [],
   "source": [
    "segment_dataframe(df_fgm) "
   ]
  },
  {
   "cell_type": "code",
   "execution_count": null,
   "id": "180e5303-0797-4405-84c4-6f21279bf499",
   "metadata": {},
   "outputs": [],
   "source": [
    "fig, axs = plt.subplots(4,  # 4 plots\n",
    "                        figsize=(12,12), \n",
    "                        sharex=True, # share same x-range\n",
    "                        sharey=False, # don't share same y-range\n",
    "                        gridspec_kw={'hspace': 0})\n",
    "fig.suptitle(f'r data from {start_date_str} to {end_date_str}', fontsize=20)\n",
    "\n",
    "# Adjust the layout so that labels/titles don't overlap\n",
    "plt.tight_layout()\n",
    "\n",
    "for _, segment in df_fgm.groupby('segment'):\n",
    "    # Plot r_x, r_y, and r_z against epoch on different axes\n",
    "    axs[0].plot(segment['t'], segment['r_x']/R_E, c='b', lw=0.5)\n",
    "    axs[1].plot(segment['t'], segment['r_y']/R_E, c='b', lw=0.5)\n",
    "    axs[2].plot(segment['t'], segment['r_z']/R_E, c='b', lw=0.5)\n",
    "    axs[3].plot(segment['t'], segment['r_mag']/R_E, c='r', lw=0.5)\n",
    "\n",
    "# Add labels and title\n",
    "plt.xlabel(r'time', fontsize=16) # or axs[2].set_xlabel\n",
    "\n",
    "# Format the x-axis to display full dates and times with more detail\n",
    "# \"Hour:Minute:Second // Year-Month-Day\"\n",
    "date_format = mdates.DateFormatter('%H:%M:%S\\n%Y-%m-%d')\n",
    "axs[2].xaxis.set_major_formatter(date_format)\n",
    "\n",
    "axs[0].set_ylabel(r'$r_x$ [$R_E$]', fontsize=16)\n",
    "axs[1].set_ylabel(r'$r_y$ [$R_E$]', fontsize=16)\n",
    "axs[2].set_ylabel(r'$r_z$ [$R_E$]', fontsize=16)\n",
    "axs[3].set_ylabel(r'$r$ [$R_E$]', fontsize=16);"
   ]
  },
  {
   "cell_type": "code",
   "execution_count": null,
   "id": "84d8f302-f023-40e2-b632-b0f93889161e",
   "metadata": {},
   "outputs": [],
   "source": [
    "fig, axs = plt.subplots(4,  # 4 plots\n",
    "                        figsize=(12,12), \n",
    "                        sharex=True, # share same x-range\n",
    "                        sharey=False, # don't share same y-range\n",
    "                        gridspec_kw={'hspace': 0})\n",
    "fig.suptitle(f'r data from {start_date_str} to {end_date_str}', fontsize=20)\n",
    "\n",
    "# Adjust the layout so that labels/titles don't overlap\n",
    "plt.tight_layout()\n",
    "\n",
    "# Plot r_x, r_y, and r_z against epoch on different axes\n",
    "axs[0].plot(df_fgm['t'], df_fgm['r_x']/R_E, c='b', lw=0.5)\n",
    "axs[1].plot(df_fgm['t'], df_fgm['r_y']/R_E, c='b', lw=0.5)\n",
    "axs[2].plot(df_fgm['t'], df_fgm['r_z']/R_E, c='b', lw=0.5)\n",
    "axs[3].plot(df_fgm['t'], df_fgm['r_mag']/R_E, c='r', lw=0.5)\n",
    "\n",
    "# Add labels and title\n",
    "plt.xlabel(r'time', fontsize=16) # or axs[2].set_xlabel\n",
    "\n",
    "# Format the x-axis to display full dates and times with more detail\n",
    "# \"Hour:Minute:Second // Year-Month-Day\"\n",
    "date_format = mdates.DateFormatter('%H:%M:%S\\n%Y-%m-%d')\n",
    "axs[2].xaxis.set_major_formatter(date_format)\n",
    "\n",
    "axs[0].set_ylabel(r'$r_x$ [$R_E$]', fontsize=16)\n",
    "axs[1].set_ylabel(r'$r_y$ [$R_E$]', fontsize=16)\n",
    "axs[2].set_ylabel(r'$r_z$ [$R_E$]', fontsize=16)\n",
    "axs[3].set_ylabel(r'$r$ [$R_E$]', fontsize=16);\n",
    "\n",
    "#plt.savefig(f'{data_name} data on {data_date}.png',bbox_inches='tight')"
   ]
  },
  {
   "cell_type": "code",
   "execution_count": null,
   "id": "40a6b5cb-b53f-4195-a9d7-e87bd3b6037c",
   "metadata": {},
   "outputs": [],
   "source": [
    "fig, axs = plt.subplots(4,  # 4 plots\n",
    "                        figsize=(12,12), \n",
    "                        sharex=True, # share same x-range\n",
    "                        sharey=False, # don't share same y-range\n",
    "                        gridspec_kw={'hspace': 0})\n",
    "\n",
    "fig.suptitle(f'B data from {start_date_str} to {end_date_str}', fontsize=20)\n",
    "\n",
    "# Adjust the layout so that labels/titles don't overlap\n",
    "plt.tight_layout()\n",
    "\n",
    "for _, segment in df_fgm.groupby('segment'):\n",
    "   # Plot B_x, B_y, and B_z against epoch on different axes\n",
    "    axs[0].plot(segment['t'], segment['B_x'], c='b', lw=0.5)\n",
    "    axs[1].plot(segment['t'], segment['B_y'], c='b', lw=0.5)\n",
    "    axs[2].plot(segment['t'], segment['B_z'], c='b', lw=0.5)\n",
    "    axs[3].plot(segment['t'], segment['B_mag'], c='r', lw=0.5)\n",
    "\n",
    "# Add labels and title\n",
    "plt.xlabel(r'time', fontsize=16) # or axs[2].set_xlabel\n",
    "\n",
    "# Format the x-axis to display full dates and times with more detail\n",
    "# \"Hour:Minute:Second // Year-Month-Day\"\n",
    "date_format = mdates.DateFormatter('%H:%M:%S\\n%Y-%m-%d')\n",
    "axs[2].xaxis.set_major_formatter(date_format)\n",
    "\n",
    "axs[0].set_ylabel(r'$B_x$ [nT]', fontsize=16)\n",
    "axs[1].set_ylabel(r'$B_y$ [nT]', fontsize=16)\n",
    "axs[2].set_ylabel(r'$B_z$ [nT]', fontsize=16)\n",
    "axs[3].set_ylabel(r'$B$ [nT]', fontsize=16);\n",
    "\n",
    "#plt.savefig(f'{data_name} data on {data_date}.png',bbox_inches='tight')"
   ]
  },
  {
   "cell_type": "code",
   "execution_count": null,
   "id": "dc8261ba-4ba7-4551-9ea6-e6bde87e238c",
   "metadata": {},
   "outputs": [],
   "source": [
    "fig, axs = plt.subplots(4,  # 4 plots\n",
    "                        figsize=(12,12), \n",
    "                        sharex=True, # share same x-range\n",
    "                        sharey=False, # don't share same y-range\n",
    "                        gridspec_kw={'hspace': 0})\n",
    "\n",
    "fig.suptitle(f'B data from {start_date_str} to {end_date_str}', fontsize=20)\n",
    "\n",
    "# Adjust the layout so that labels/titles don't overlap\n",
    "plt.tight_layout()\n",
    "\n",
    "# Plot B_x, B_y, and B_z against epoch on different axes\n",
    "axs[0].plot(df_fgm['t'], df_fgm['B_x'], c='b', lw=0.5)\n",
    "axs[1].plot(df_fgm['t'], df_fgm['B_y'], c='b', lw=0.5)\n",
    "axs[2].plot(df_fgm['t'], df_fgm['B_z'], c='b', lw=0.5)\n",
    "axs[3].plot(df_fgm['t'], df_fgm['B_mag'], c='r', lw=0.5)\n",
    "\n",
    "# Add labels and title\n",
    "plt.xlabel(r'time', fontsize=16) # or axs[2].set_xlabel\n",
    "\n",
    "# Format the x-axis to display full dates and times with more detail\n",
    "# \"Hour:Minute:Second // Year-Month-Day\"\n",
    "date_format = mdates.DateFormatter('%H:%M:%S\\n%Y-%m-%d')\n",
    "axs[2].xaxis.set_major_formatter(date_format)\n",
    "\n",
    "axs[0].set_ylabel(r'$B_x$ [nT]', fontsize=16)\n",
    "axs[1].set_ylabel(r'$B_y$ [nT]', fontsize=16)\n",
    "axs[2].set_ylabel(r'$B_z$ [nT]', fontsize=16)\n",
    "axs[3].set_ylabel(r'$B$ [nT]', fontsize=16);\n",
    "\n",
    "#plt.savefig(f'{data_name} data on {data_date}.png',bbox_inches='tight')"
   ]
  },
  {
   "cell_type": "code",
   "execution_count": null,
   "id": "a3f5ac14-3347-43bf-af06-4e5d75651d10",
   "metadata": {},
   "outputs": [],
   "source": [
    "fig, ax = plt.subplots()\n",
    "fig.suptitle(f'Orbit data from {start_date_str} to {end_date_str}', fontsize=20)\n",
    "\n",
    "# Scaled to Earth radius\n",
    "x = df_fgm['r_x']/R_E\n",
    "y = df_fgm['r_y']/R_E\n",
    "\n",
    "# Add small crosses at the start and end points\n",
    "ax.scatter(x[0], y[0], color='orange', marker='x', s=100, label='Start Point')  # Start point\n",
    "\n",
    "# Plot ry against rx to see orbit in x-y plane\n",
    "ax.plot(x, y, c='b', lw=0.5)\n",
    "\n",
    "# Add arrows to indicate direction\n",
    "for i in np.linspace(50, len(x) - 2, 20):  # Adjust step for arrow density\n",
    "    i=int(i)\n",
    "    ax.arrow(x[i], y[i], x[i + 1] - x[i], y[i + 1] - y[i],\n",
    "         head_width=.3, head_length=.4, fc='red', ec='red')\n",
    "\n",
    "# Add labels and title\n",
    "plt.xlabel(r'$r_x$ [$R_E$]', fontsize=16)\n",
    "plt.gca().invert_xaxis()\n",
    "\n",
    "plt.ylabel(r'$r_y$ [$R_E$]', fontsize=16)\n",
    "plt.gca().invert_yaxis()\n",
    "\n",
    "#plt.savefig(f'{data_name} data on {data_date}.png',bbox_inches='tight')"
   ]
  },
  {
   "cell_type": "code",
   "execution_count": null,
   "id": "5a090537-b2bd-4b72-a0f4-2a380e94e736",
   "metadata": {},
   "outputs": [],
   "source": []
  }
 ],
 "metadata": {
  "kernelspec": {
   "display_name": "Python 3 (ipykernel)",
   "language": "python",
   "name": "python3"
  },
  "language_info": {
   "codemirror_mode": {
    "name": "ipython",
    "version": 3
   },
   "file_extension": ".py",
   "mimetype": "text/x-python",
   "name": "python",
   "nbconvert_exporter": "python",
   "pygments_lexer": "ipython3",
   "version": "3.10.8"
  }
 },
 "nbformat": 4,
 "nbformat_minor": 5
}
